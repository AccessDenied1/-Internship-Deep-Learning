{
  "nbformat": 4,
  "nbformat_minor": 0,
  "metadata": {
    "colab": {
      "name": "EfficientB0.ipynb",
      "provenance": [],
      "collapsed_sections": []
    },
    "kernelspec": {
      "name": "python3",
      "display_name": "Python 3"
    },
    "accelerator": "GPU"
  },
  "cells": [
    {
      "cell_type": "code",
      "metadata": {
        "id": "dfZO0mVjb-yp",
        "colab_type": "code",
        "colab": {}
      },
      "source": [
        "#Installing the library\n",
        "pip install keras-efficientnets"
      ],
      "execution_count": 0,
      "outputs": []
    },
    {
      "cell_type": "code",
      "metadata": {
        "id": "6CbROHkABdbb",
        "colab_type": "code",
        "colab": {}
      },
      "source": [
        "import keras_efficientnets"
      ],
      "execution_count": 0,
      "outputs": []
    },
    {
      "cell_type": "code",
      "metadata": {
        "id": "GTHHVjtHCVFR",
        "colab_type": "code",
        "colab": {
          "base_uri": "https://localhost:8080/",
          "height": 34
        },
        "outputId": "ee62aba8-c045-4f27-9cd7-d6324f0328f1"
      },
      "source": [
        "print(keras_efficientnets.__version__)"
      ],
      "execution_count": 3,
      "outputs": [
        {
          "output_type": "execute_result",
          "data": {
            "text/plain": [
              "'0.1.7'"
            ]
          },
          "metadata": {
            "tags": []
          },
          "execution_count": 3
        }
      ]
    },
    {
      "cell_type": "code",
      "metadata": {
        "id": "NbGBZegKcS5u",
        "colab_type": "code",
        "colab": {}
      },
      "source": [
        "import tensorflow as tf\n",
        "import keras\n",
        "\n",
        "#Mounting the drive(since working on Google Colab)\n",
        "from google.colab import drive\n",
        "drive.mount('/content/drive')\n",
        "# Change the path to the dataset folder\n",
        "%cd /content/drive/My\\ Drive\n",
        "\n",
        "import os\n",
        "\n",
        "import numpy\n",
        "\n",
        "from keras_efficientnets import EfficientNetB0\n",
        "\n",
        "from keras.preprocessing import image\n",
        "\n",
        "from keras.models import Model\n",
        "\n",
        "from keras.layers import Dense, GlobalAveragePooling2D\n",
        "\n",
        "from keras.preprocessing.image import ImageDataGenerator\n",
        "\n",
        "import matplotlib.pyplot as plt\n",
        "\n",
        "%matplotlib inline\n",
        "\n",
        "from keras.layers import Dense\n",
        "\n",
        "from keras.layers import Dropout\n"
      ],
      "execution_count": 0,
      "outputs": []
    },
    {
      "cell_type": "code",
      "metadata": {
        "id": "6fPAdS2qpv33",
        "colab_type": "code",
        "colab": {}
      },
      "source": [
        "train_datagen= ImageDataGenerator()\n",
        "valid_datagen= ImageDataGenerator()\n",
        "test_datagen= ImageDataGenerator()\n",
        "\n",
        "#Collecting the train dataset and coverting it to the size of (224,224)\n",
        "train_generator = train_datagen.flow_from_directory(\n",
        "\n",
        "    directory='PATH/TO/TRAIN/DATASET' ,\n",
        "\n",
        "    target_size=(224, 224),\n",
        "\n",
        "    color_mode=\"rgb\",\n",
        "\n",
        "    batch_size=32,\n",
        "\n",
        "    class_mode=\"categorical\",\n",
        "\n",
        "    shuffle=True,\n",
        "\n",
        "    seed=42)\n",
        "\n",
        "#Collecting the validation dataset and coverting it to the size of (224,224)\n",
        "valid_generator = valid_datagen.flow_from_directory(\n",
        "\n",
        "    directory='PATH/TO/VALID/DATASET',\n",
        "\n",
        "    target_size=(224, 224),\n",
        "\n",
        "    color_mode=\"rgb\",\n",
        "\n",
        "    batch_size=32,\n",
        "\n",
        "    class_mode=\"categorical\",\n",
        "\n",
        "    shuffle=True,\n",
        "\n",
        "    seed=42)\n",
        "\n",
        "#Test dataset for the final evaluation of model\n",
        "test_generator= test_datagen.flow_from_directory(\n",
        "\n",
        "   directory=\"PATH/TO/TEST/DATASET\",\n",
        "\n",
        "   target_size=(224,224),color_mode=\"rgb\",\n",
        "\n",
        "   class_mode=\"categorical\",shuffle=False,seed=42)\n",
        "\n",
        "\n",
        "\n",
        "STEP_SIZE_TRAIN=train_generator.n//train_generator.batch_size\n",
        "\n",
        "STEP_SIZE_VALID=valid_generator.n//valid_generator.batch_size\n",
        "\n",
        "STEP_SIZE_TEST = test_generator.n//test_generator.batch_size"
      ],
      "execution_count": 0,
      "outputs": []
    },
    {
      "cell_type": "code",
      "metadata": {
        "id": "vaUi9kDtpzcY",
        "colab_type": "code",
        "colab": {}
      },
      "source": [
        "base_model = EfficientNetB0(input_shape=[224,224,3], classes=7, include_top=False, weights='imagenet')\n",
        "\n",
        "x = base_model.output\n",
        "\n",
        "x = GlobalAveragePooling2D(name='avg_pool')(x)\n",
        "\n",
        "x = Dense(1024, activation='relu')(x)\n",
        "\n",
        "x= Dropout(0.5)(x)\n",
        "\n",
        "predictions = Dense(7, activation='softmax')(x)\n",
        "\n",
        "model = Model(inputs=base_model.input, outputs=predictions)"
      ],
      "execution_count": 0,
      "outputs": []
    },
    {
      "cell_type": "code",
      "metadata": {
        "id": "8DiuCfiysnvV",
        "colab_type": "code",
        "colab": {}
      },
      "source": [
        "#unfreezing the layers form 'multiply_16' till last layer\n",
        "set_trainable = False\n",
        "for layer in base_model.layers:\n",
        "    if layer.name == 'multiply_16':\n",
        "        set_trainable = True\n",
        "    if set_trainable:\n",
        "        layer.trainable = True\n",
        "    else:\n",
        "        layer.trainable = False"
      ],
      "execution_count": 0,
      "outputs": []
    },
    {
      "cell_type": "code",
      "metadata": {
        "id": "bjg-PJkSstx-",
        "colab_type": "code",
        "colab": {}
      },
      "source": [
        "#unfreezing all the layers\n",
        "#Use only not using the above method\n",
        "\n",
        "#for layer in base_model.layers:\n",
        "#    layer.trainable = True"
      ],
      "execution_count": 0,
      "outputs": []
    },
    {
      "cell_type": "code",
      "metadata": {
        "id": "skYpyYZWp3Pj",
        "colab_type": "code",
        "colab": {}
      },
      "source": [
        "model.compile(optimizer='adam',\n",
        "\n",
        "              loss='categorical_crossentropy',\n",
        "\n",
        "              metrics=['accuracy'])"
      ],
      "execution_count": 0,
      "outputs": []
    },
    {
      "cell_type": "code",
      "metadata": {
        "id": "Fxk3fLXVp501",
        "colab_type": "code",
        "colab": {}
      },
      "source": [
        "print(model.summary())"
      ],
      "execution_count": 0,
      "outputs": []
    },
    {
      "cell_type": "code",
      "metadata": {
        "id": "q8PbzHMTp7o_",
        "colab_type": "code",
        "colab": {}
      },
      "source": [
        "#Training of the model\n",
        "cb = keras.callbacks.EarlyStopping(monitor='val_acc', min_delta=0, patience=5, verbose=0, mode='auto', baseline=None, restore_best_weights=True)\n",
        "\n",
        "model.fit_generator(generator=train_generator,validation_data=valid_generator,validation_steps=STEP_SIZE_VALID,steps_per_epoch=STEP_SIZE_TRAIN,epochs=15,callbacks = [cb])"
      ],
      "execution_count": 0,
      "outputs": []
    },
    {
      "cell_type": "code",
      "metadata": {
        "id": "d1eVj3J1zo6A",
        "colab_type": "code",
        "colab": {}
      },
      "source": [
        "#Saving the model\n",
        "model.save(\"PATH/TO/SAVE/MODEL/EfficientB0.model\")"
      ],
      "execution_count": 0,
      "outputs": []
    },
    {
      "cell_type": "markdown",
      "metadata": {
        "id": "gK9I5yZTzO5m",
        "colab_type": "text"
      },
      "source": [
        "##Fine-tuning the model\n",
        "### *If required*"
      ]
    },
    {
      "cell_type": "code",
      "metadata": {
        "id": "o913eJ4pzS_V",
        "colab_type": "code",
        "colab": {}
      },
      "source": [
        "from efficientnet import load_model\n",
        "model = load_model(\"PATH/TO/SAVED/MODEL/EfficientB0.model\")\n",
        "set_trainable = False\n",
        "for layer in model.layers:\n",
        "    if layer.name == 'multiply_16':\n",
        "        set_trainable = True\n",
        "    if set_trainable:\n",
        "        layer.trainable = True\n",
        "    else:\n",
        "        layer.trainable = False\n",
        "\n",
        "model.compile(optimizer='adam',\n",
        "\n",
        "              loss='categorical_crossentropy',\n",
        "\n",
        "              metrics=['accuracy'])\n",
        "\n",
        "print(model.summary())\n",
        "\n",
        "model.fit_generator(generator=train_generator,validation_data=valid_generator,validation_steps=STEP_SIZE_VALID,steps_per_epoch=STEP_SIZE_TRAIN,epochs=9)\n"
      ],
      "execution_count": 0,
      "outputs": []
    },
    {
      "cell_type": "code",
      "metadata": {
        "id": "YgmTXfJH8WIw",
        "colab_type": "code",
        "colab": {}
      },
      "source": [
        "# Evalutating the model on the test dataset\n",
        "model.evaluate_generator(test_generator,steps = STEP_SIZE_TEST, max_queue_size=10, workers=1, use_multiprocessing=False, verbose=0)"
      ],
      "execution_count": 0,
      "outputs": []
    },
    {
      "cell_type": "code",
      "metadata": {
        "id": "U56HqrO69QMK",
        "colab_type": "code",
        "colab": {}
      },
      "source": [
        "# Conversion of the model into Tflite form\n",
        "# It's a necessay step as tflite form will be deployed on raspberry pi\n",
        "\n",
        "import tensorflow as tf\n",
        "import numpy as np\n",
        "converter  = tf.lite.TFLiteConverter.from_keras_model_file(\"/content/drive/My Drive/Efficient_nets/EfficientB0_new.model\", input_shapes = {'input_1' : [1,224,224,3]})\n",
        "\n",
        "tflite_model  = converter.convert()\n",
        "#Saving the model in tflite form\n",
        "open(\"/content/drive/My Drive/Efficient_nets/EfficientB0_new.tflite\", \"wb\").write(tflite_model)"
      ],
      "execution_count": 0,
      "outputs": []
    },
    {
      "cell_type": "markdown",
      "metadata": {
        "id": "xXrWEVKSkb47",
        "colab_type": "text"
      },
      "source": [
        "## F-1 Score of the model\n"
      ]
    },
    {
      "cell_type": "code",
      "metadata": {
        "id": "ZJk4YE9EkeGh",
        "colab_type": "code",
        "colab": {}
      },
      "source": [
        "validation_data_dir = \"PATH/TO/DATASET\"\n",
        "import glob\n",
        "allvalidimgpaths=glob.glob(os.path.join(validation_data_dir, '*/*.jpeg'))\n",
        "allvalidimgpaths+=glob.glob(os.path.join(validation_data_dir, '*/*.jpg'))\n",
        "import random\n",
        "random.shuffle(allvalidimgpaths)"
      ],
      "execution_count": 0,
      "outputs": []
    },
    {
      "cell_type": "code",
      "metadata": {
        "id": "W65EZggXkpAz",
        "colab_type": "code",
        "colab": {}
      },
      "source": [
        "from keras.preprocessing.image import load_img, img_to_array\n",
        "validation_imgs = [img_to_array(load_img(img, target_size=(224,224))) for img in allvalidimgpaths]"
      ],
      "execution_count": 0,
      "outputs": []
    },
    {
      "cell_type": "code",
      "metadata": {
        "id": "HqGdPyyfkd_K",
        "colab_type": "code",
        "colab": {}
      },
      "source": [
        "validation_labels= [fn.split('/')[-2] for fn in allvalidimgpaths]\n",
        "\n",
        "import numpy as np\n",
        "np.array(validation_imgs)\n",
        "\n",
        "print(np.shape(validation_imgs))"
      ],
      "execution_count": 0,
      "outputs": []
    },
    {
      "cell_type": "code",
      "metadata": {
        "id": "U6QTHDY9lANx",
        "colab_type": "code",
        "colab": {}
      },
      "source": [
        "from sklearn.preprocessing import LabelEncoder\n",
        "\n",
        "\n",
        "le = LabelEncoder()\n",
        "#LABELS\n",
        "le.fit([\"black eyed beans\",\"chana dal\",\"kidney beans\",\"masoor dal\",\"moong dal\",\"toor dal\",\"urad dal\"])\n",
        "validation_labels_enc = le.transform(validation_labels)"
      ],
      "execution_count": 0,
      "outputs": []
    },
    {
      "cell_type": "code",
      "metadata": {
        "id": "38L7n3a6lDWS",
        "colab_type": "code",
        "colab": {}
      },
      "source": [
        "print(validation_labels[5:9])\n",
        "print(validation_labels_enc[5:9])"
      ],
      "execution_count": 0,
      "outputs": []
    },
    {
      "cell_type": "code",
      "metadata": {
        "id": "kd-rGhUDlDRC",
        "colab_type": "code",
        "colab": {}
      },
      "source": [
        "newvalids=validation_imgs[:]\n",
        "\n",
        "valid_imgs_array=numpy.asarray(validation_imgs)\n",
        "\n",
        "print(valid_imgs_array.shape)\n",
        "valid_imgs_array.astype('float32')\n",
        "\n",
        "valid_imgs_array/=255\n",
        "\n",
        "test_predictions=model.predict(valid_imgs_array)\n"
      ],
      "execution_count": 0,
      "outputs": []
    },
    {
      "cell_type": "code",
      "metadata": {
        "id": "NAVY3pZUlDI9",
        "colab_type": "code",
        "colab": {}
      },
      "source": [
        "import numpy as np\n",
        "newpreds= np.argmax(test_predictions,axis=1)\n",
        "\n",
        "from sklearn.metrics import classification_report\n",
        "\n",
        "#Printing the F1 scores\n",
        "print(classification_report(validation_labels_enc, newpreds, target_names=[\"black eyed beans\",\"chana dal\",\"kidney beans\",\"masoor dal\",\"moong dal\",\"toor dal\",\"urad dal\"]))"
      ],
      "execution_count": 0,
      "outputs": []
    }
  ]
}